{
 "cells": [
  {
   "cell_type": "code",
   "execution_count": 1,
   "metadata": {},
   "outputs": [],
   "source": [
    "import pandas as pd\n",
    "import numpy as np\n",
    "import matplotlib.pyplot as plt\n",
    "from utils import *"
   ]
  },
  {
   "cell_type": "code",
   "execution_count": 2,
   "metadata": {},
   "outputs": [],
   "source": [
    "RHR = 'l2_tex_read_hit_rate'\n",
    "WHR = 'l2_tex_write_hit_rate'\n",
    "\n",
    "RTR = 'l2_tex_read_transactions'\n",
    "WTR = 'l2_tex_write_transactions'\n",
    "\n",
    "path = './src/modelsize/csv/'\n",
    "\n",
    "#101 write doesn't need delimeter, rest do\n",
    "models = ['18', '50', '101w']"
   ]
  },
  {
   "cell_type": "code",
   "execution_count": 14,
   "metadata": {},
   "outputs": [],
   "source": [
    "i=1"
   ]
  },
  {
   "cell_type": "code",
   "execution_count": 15,
   "metadata": {},
   "outputs": [],
   "source": [
    "s = pd.read_csv(path + models[i] + '_s.csv')\n",
    "s = s.drop(0)\n",
    "s = s.reset_index(drop=True)"
   ]
  },
  {
   "cell_type": "code",
   "execution_count": 16,
   "metadata": {},
   "outputs": [],
   "source": [
    "delimeter_s = find_delimeter(s)"
   ]
  },
  {
   "cell_type": "code",
   "execution_count": 17,
   "metadata": {},
   "outputs": [],
   "source": [
    "m = pd.read_csv(path + models[i] + '_m.csv')\n",
    "m = m.drop(0)\n",
    "m = m.reset_index(drop=True)"
   ]
  },
  {
   "cell_type": "code",
   "execution_count": 18,
   "metadata": {},
   "outputs": [],
   "source": [
    "delimeter_m = find_delimeter(m)"
   ]
  },
  {
   "cell_type": "code",
   "execution_count": 19,
   "metadata": {},
   "outputs": [],
   "source": [
    "# rtr_s = s[RTR].astype(float).to_numpy()\n",
    "# rtr_s = rtr_s[delimeter_s:]\n",
    "\n",
    "# wtr_s = s[WTR].astype(float).to_numpy()\n",
    "# wtr_s = rtr_s[delimeter_s:]\n",
    "\n",
    "# rtr_m = m[RTR].astype(float).to_numpy()\n",
    "# rtr_m = rtr_m[delimeter_s:]\n",
    "\n",
    "# wtr_m = m[WTR].astype(float).to_numpy()\n",
    "# wtr_m = rtr_m[delimeter_s:]"
   ]
  },
  {
   "cell_type": "code",
   "execution_count": 20,
   "metadata": {},
   "outputs": [],
   "source": [
    "rhr_s = s[RHR].astype(float).to_numpy()\n",
    "rhr_s = rhr_s[delimeter_s:]"
   ]
  },
  {
   "cell_type": "code",
   "execution_count": 21,
   "metadata": {},
   "outputs": [],
   "source": [
    "whr_s = s[WHR].astype(float).to_numpy()\n",
    "whr_s = whr_s[delimeter_s:]"
   ]
  },
  {
   "cell_type": "code",
   "execution_count": 22,
   "metadata": {},
   "outputs": [],
   "source": [
    "rhr_m = m[RHR].astype(float).to_numpy()\n",
    "rhr_m = rhr_m[delimeter_m:]"
   ]
  },
  {
   "cell_type": "code",
   "execution_count": 23,
   "metadata": {},
   "outputs": [],
   "source": [
    "whr_m = m[WHR].astype(float).to_numpy()\n",
    "whr_m = whr_m[delimeter_m:]"
   ]
  },
  {
   "cell_type": "code",
   "execution_count": 24,
   "metadata": {},
   "outputs": [
    {
     "name": "stdout",
     "output_type": "stream",
     "text": [
      "1GPU read hit rate 33.99176528301887%\n",
      "MGPU read hit rate 25.32134096908602%\n"
     ]
    }
   ],
   "source": [
    "print(\"1GPU read hit rate {}%\".format(rhr_s.mean()))\n",
    "print(\"MGPU read hit rate {}%\".format(rhr_m.mean()))"
   ]
  },
  {
   "cell_type": "code",
   "execution_count": 25,
   "metadata": {},
   "outputs": [
    {
     "name": "stdout",
     "output_type": "stream",
     "text": [
      "1GPU write hit rate 54.21054953687821%\n",
      "MGPU write hit rate 53.898134766129026%\n"
     ]
    }
   ],
   "source": [
    "print(\"1GPU write hit rate {}%\".format(whr_s.mean()))\n",
    "print(\"MGPU write hit rate {}%\".format(whr_m.mean()))"
   ]
  },
  {
   "cell_type": "code",
   "execution_count": null,
   "metadata": {},
   "outputs": [],
   "source": [
    "# print(\"SingleGPU\")\n",
    "# print(\"Read hit rate  {}%\".format(rhr_s.mean()))\n",
    "# print(\"Read transactions {}\".format(rt_s.mean()))\n",
    "# print(\"Write hit rate {}%\".format(whr_s.mean()))\n",
    "# print(\"Write transactions {}\".format(wt_s.mean()))\n",
    "# print()\n",
    "# print(\"MultiGPU\")\n",
    "# print(\"Read hit rate {}%\".format(rhr_m.mean()))\n",
    "# print(\"Read transactions {}\".format(rt_m.mean()))\n",
    "# print(\"Write hit rate {}%\".format(whr_m.mean()))\n",
    "# print(\"Write transactions {}\".format(wt_m.mean()))"
   ]
  },
  {
   "cell_type": "code",
   "execution_count": null,
   "metadata": {},
   "outputs": [],
   "source": []
  }
 ],
 "metadata": {
  "interpreter": {
   "hash": "31f2aee4e71d21fbe5cf8b01ff0e069b9275f58929596ceb00d14d90e3e16cd6"
  },
  "kernelspec": {
   "display_name": "Python 3.8.10 64-bit",
   "name": "python3"
  },
  "language_info": {
   "codemirror_mode": {
    "name": "ipython",
    "version": 3
   },
   "file_extension": ".py",
   "mimetype": "text/x-python",
   "name": "python",
   "nbconvert_exporter": "python",
   "pygments_lexer": "ipython3",
   "version": "3.8.10"
  },
  "orig_nbformat": 4
 },
 "nbformat": 4,
 "nbformat_minor": 2
}
