{
 "cells": [
  {
   "cell_type": "code",
   "execution_count": 1,
   "metadata": {},
   "outputs": [],
   "source": [
    "import pandas as pd\n",
    "import numpy as np\n",
    "import matplotlib.pyplot as plt"
   ]
  },
  {
   "cell_type": "code",
   "execution_count": 2,
   "metadata": {},
   "outputs": [],
   "source": [
    "def plot_graph(arr, ylabel='L2 hitrate', xlabel='kernels (in-order)'):\n",
    "    fig = plt.figure(figsize=(20,8))\n",
    "    ax = fig.add_subplot(111)\n",
    "    plt.tight_layout()\n",
    "    plt.xlabel(xlabel)\n",
    "    plt.ylabel(ylabel)\n",
    "    ax.plot(arr)"
   ]
  },
  {
   "cell_type": "code",
   "execution_count": 3,
   "metadata": {},
   "outputs": [],
   "source": [
    "def plot_bar(arr, delimeter=91, ylabel='L2 hit-rate', xlabel='kernels (in-order)'):\n",
    "    fig = plt.figure(figsize=(20,8))\n",
    "    ax = fig.add_subplot(111)\n",
    "    plt.tight_layout()\n",
    "    plt.xlabel(xlabel, fontsize=20)\n",
    "    plt.ylabel(ylabel, fontsize=20)\n",
    "    plt.axvline(x=delimeter, color='r', linestyle='--')\n",
    "    ax.bar(list(range(len(arr))), height=arr, width=1)"
   ]
  },
  {
   "cell_type": "code",
   "execution_count": 4,
   "metadata": {},
   "outputs": [],
   "source": [
    "#model = 'resnet50'\n",
    "#model = 'resnet152'\n",
    "model = 'vgg16'"
   ]
  },
  {
   "cell_type": "code",
   "execution_count": 5,
   "metadata": {},
   "outputs": [],
   "source": [
    "onegpu = pd.read_csv('./src/'+model+'/ncu_onegpu_entire.csv')"
   ]
  },
  {
   "cell_type": "code",
   "execution_count": 6,
   "metadata": {},
   "outputs": [],
   "source": [
    "legend = {\n",
    "    'L1-2 hitrate':'lts__t_sector_hit_rate.pct',\n",
    "    'L1-2 read hitrate':'lts__t_sector_op_read_hit_rate.pct',\n",
    "    'L1-2 read transactions':'lts__t_sectors_srcunit_tex_op_read.sum',\n",
    "    'L2 read transactions':'lts__t_sectors_op_read.sum+lts__t_sectors_op_atom.sum+lts__t_sectors_op_red.sum',\n",
    "    'L1 hitrate':'l1tex__t_sector_hit_rate.pct',\n",
    "    'L1 transactions':'l1tex__lsu_writeback_active.avg.pct_of_peak_sustained_active+l1tex__tex_writeback_active.avg.pct_of_peak_sustained_active',\n",
    "    'L2 utilization':'lts__t_sectors.avg.pct_of_peak_sustained_elapsed'\n",
    "}"
   ]
  },
  {
   "cell_type": "code",
   "execution_count": 7,
   "metadata": {},
   "outputs": [],
   "source": [
    "# onegpu.loc[onegpu['Kernel Name'].str.contains('volta_sgemm_128x32_sliced1x4_tn',case=False)]\n",
    "# onegpu.loc[onegpu['ID']==123]"
   ]
  },
  {
   "cell_type": "code",
   "execution_count": 8,
   "metadata": {},
   "outputs": [],
   "source": [
    "def get_data(df, legend):\n",
    "    length = df['ID'].max()+1\n",
    "\n",
    "    n = len(legend.keys())\n",
    "\n",
    "    ids = list(range(length))\n",
    "    names = list(legend.keys())\n",
    "    data = {}\n",
    "\n",
    "    for i in range(n):\n",
    "        name = names[i]\n",
    "        metric = legend[name]\n",
    "        d = np.zeros(length)\n",
    "        for j in ids:\n",
    "            d[j] = df.loc[(df['ID']==j) & (df['Metric Name']==metric)]['Metric Value'].to_numpy()[0]\n",
    "        data[name] = d \n",
    "    return data"
   ]
  },
  {
   "cell_type": "code",
   "execution_count": 9,
   "metadata": {},
   "outputs": [],
   "source": [
    "def leave_relevant(data, delimeters = [91,123]):\n",
    "    for key in data.keys():\n",
    "        data[key] = np.delete(data[key], list(range(delimeters[0], delimeters[1])))\n",
    "    return data"
   ]
  },
  {
   "cell_type": "code",
   "execution_count": 10,
   "metadata": {},
   "outputs": [],
   "source": [
    "data = get_data(onegpu,legend)"
   ]
  },
  {
   "cell_type": "code",
   "execution_count": 11,
   "metadata": {},
   "outputs": [],
   "source": [
    "data = leave_relevant(data)"
   ]
  },
  {
   "cell_type": "code",
   "execution_count": null,
   "metadata": {},
   "outputs": [],
   "source": [
    "# 'L1-2 hitrate'\n",
    "# 'L1-2 read hitrate'\n",
    "# 'L1-2 read transactions'\n",
    "# 'L2 read transactions'\n",
    "# 'L1 hitrate'\n",
    "# 'L1 transactions'\n",
    "# 'L2 utilization'"
   ]
  },
  {
   "cell_type": "code",
   "execution_count": 12,
   "metadata": {},
   "outputs": [],
   "source": [
    "target = 'L1-2 read hitrate'"
   ]
  },
  {
   "cell_type": "code",
   "execution_count": 13,
   "metadata": {},
   "outputs": [
    {
     "data": {
      "image/png": "[encoded data removed]",
      "text/plain": [
       "<Figure size 1440x576 with 1 Axes>"
      ]
     },
     "metadata": {
      "needs_background": "light"
     },
     "output_type": "display_data"
    }
   ],
   "source": [
    "plot_bar(data[target], ylabel=target)"
   ]
  },
  {
   "cell_type": "code",
   "execution_count": null,
   "metadata": {},
   "outputs": [],
   "source": [
    "hitrates = data['L1-2 read hitrate']\n",
    "trans = data['L1-2 read transactions']"
   ]
  },
  {
   "cell_type": "code",
   "execution_count": null,
   "metadata": {},
   "outputs": [],
   "source": [
    "fwd_hr = hitrates[:92]\n",
    "bwd_hr = hitrates[92:]\n",
    "\n",
    "fwd_tr = trans[:92]\n",
    "bwd_tr = trans[92:]"
   ]
  },
  {
   "cell_type": "code",
   "execution_count": null,
   "metadata": {},
   "outputs": [],
   "source": [
    "fwd_hr = fwd_hr[fwd_tr!=0]\n",
    "bwd_hr = bwd_hr[bwd_tr!=0]"
   ]
  },
  {
   "cell_type": "code",
   "execution_count": null,
   "metadata": {},
   "outputs": [],
   "source": [
    "fwd_hr.mean()"
   ]
  },
  {
   "cell_type": "code",
   "execution_count": null,
   "metadata": {},
   "outputs": [],
   "source": [
    "bwd_hr.mean()"
   ]
  },
  {
   "cell_type": "code",
   "execution_count": null,
   "metadata": {},
   "outputs": [],
   "source": []
  }
 ],
 "metadata": {
  "interpreter": {
   "hash": "31f2aee4e71d21fbe5cf8b01ff0e069b9275f58929596ceb00d14d90e3e16cd6"
  },
  "kernelspec": {
   "display_name": "Python 3.8.10 64-bit",
   "name": "python3"
  },
  "language_info": {
   "codemirror_mode": {
    "name": "ipython",
    "version": 3
   },
   "file_extension": ".py",
   "mimetype": "text/x-python",
   "name": "python",
   "nbconvert_exporter": "python",
   "pygments_lexer": "ipython3",
   "version": "3.8.10"
  },
  "orig_nbformat": 4
 },
 "nbformat": 4,
 "nbformat_minor": 2
}
