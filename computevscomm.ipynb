{
 "cells": [
  {
   "cell_type": "code",
   "execution_count": null,
   "metadata": {},
   "outputs": [],
   "source": [
    "import pandas as pd\n",
    "import numpy as np\n",
    "import matplotlib.pyplot as plt\n",
    "from utils import *"
   ]
  },
  {
   "cell_type": "markdown",
   "metadata": {},
   "source": [
    "## profiling"
   ]
  },
  {
   "cell_type": "code",
   "execution_count": null,
   "metadata": {},
   "outputs": [],
   "source": [
    "L2READTR = 'l2_read_transactions'\n",
    "L2WRITETR = 'l2_write_transactions'\n",
    "DRAMREADB = 'dram_read_bytes'\n",
    "DRAMWRITEB = 'dram_write_bytes'\n",
    "\n",
    "cacheline = 64"
   ]
  },
  {
   "cell_type": "code",
   "execution_count": null,
   "metadata": {},
   "outputs": [],
   "source": [
    "l2rt = pd.read_csv('./src/vgg16/multigpu_and_allreduce/l2_read_t.csv')\n",
    "l2rt = l2rt.drop(0)\n",
    "l2rt = l2rt.dropna(subset=[L2READTR])\n",
    "l2rt = l2rt.reset_index(drop=True)\n",
    "\n",
    "\n",
    "l2wt = pd.read_csv('./src/vgg16/multigpu_and_allreduce/l2_write_t.csv')\n",
    "l2wt = l2wt.drop(0)\n",
    "l2wt = l2wt.dropna(subset=[L2WRITETR])\n",
    "l2wt = l2wt.reset_index(drop=True)\n",
    "\n",
    "\n",
    "dramrb = pd.read_csv('./src/vgg16/multigpu_and_allreduce/dram_read_b.csv')\n",
    "dramrb = dramrb.drop(0)\n",
    "dramrb = dramrb.dropna(subset=[DRAMREADB])\n",
    "dramrb = dramrb.reset_index(drop=True)\n",
    "\n",
    "\n",
    "dramwb = pd.read_csv('./src/vgg16/multigpu_and_allreduce/dram_write_b.csv')\n",
    "dramwb = dramwb.drop(0)\n",
    "dramwb = dramwb.dropna(subset=[DRAMWRITEB])\n",
    "dramwb = dramwb.reset_index(drop=True)"
   ]
  },
  {
   "cell_type": "code",
   "execution_count": null,
   "metadata": {},
   "outputs": [],
   "source": [
    "delimeter = find_delimeter(l2rt)"
   ]
  },
  {
   "cell_type": "code",
   "execution_count": null,
   "metadata": {},
   "outputs": [],
   "source": [
    "l2rt_cp, l2rt_cm, _ = separate_streams(l2rt, L2READTR, delimeter)"
   ]
  },
  {
   "cell_type": "code",
   "execution_count": null,
   "metadata": {},
   "outputs": [],
   "source": [
    "l2rt_cm.max()"
   ]
  },
  {
   "cell_type": "code",
   "execution_count": null,
   "metadata": {},
   "outputs": [],
   "source": [
    "l2rt_cp.max()"
   ]
  },
  {
   "cell_type": "code",
   "execution_count": null,
   "metadata": {},
   "outputs": [],
   "source": [
    "l2wt_cp, l2wt_cm, _ = separate_streams(l2wt, L2WRITETR, delimeter)"
   ]
  },
  {
   "cell_type": "code",
   "execution_count": null,
   "metadata": {},
   "outputs": [],
   "source": [
    "dramrb_cp, dramrb_cm, _ = separate_streams(dramrb, DRAMREADB, delimeter)\n",
    "dramwb_cp, dramwb_cm, _ = separate_streams(dramwb, DRAMWRITEB, delimeter)"
   ]
  },
  {
   "cell_type": "code",
   "execution_count": null,
   "metadata": {},
   "outputs": [],
   "source": [
    "dramrt_cp = dramrb_cp/cacheline\n",
    "dramrt_cm = dramrb_cm/cacheline\n",
    "\n",
    "dramwt_cp = dramwb_cp/cacheline\n",
    "dramwt_cm = dramwb_cm/cacheline"
   ]
  },
  {
   "cell_type": "code",
   "execution_count": null,
   "metadata": {},
   "outputs": [],
   "source": [
    "plot_bar_overlap(l2rt_cp, l2rt_cm, delimeter, ylabel='L2 read transactions', xlabel='kernels', label1='computation', label2='communication')"
   ]
  },
  {
   "cell_type": "code",
   "execution_count": null,
   "metadata": {},
   "outputs": [],
   "source": []
  }
 ],
 "metadata": {
  "interpreter": {
   "hash": "31f2aee4e71d21fbe5cf8b01ff0e069b9275f58929596ceb00d14d90e3e16cd6"
  },
  "kernelspec": {
   "display_name": "Python 3.8.10 64-bit",
   "name": "python3"
  },
  "language_info": {
   "codemirror_mode": {
    "name": "ipython",
    "version": 3
   },
   "file_extension": ".py",
   "mimetype": "text/x-python",
   "name": "python",
   "nbconvert_exporter": "python",
   "pygments_lexer": "ipython3",
   "version": "3.8.10"
  },
  "orig_nbformat": 4
 },
 "nbformat": 4,
 "nbformat_minor": 2
}
