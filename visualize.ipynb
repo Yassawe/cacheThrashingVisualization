{
 "cells": [
  {
   "cell_type": "code",
   "execution_count": 2,
   "metadata": {},
   "outputs": [],
   "source": [
    "import pandas as pd\n",
    "import numpy as np\n",
    "import matplotlib.pyplot as plt"
   ]
  },
  {
   "cell_type": "code",
   "execution_count": 3,
   "metadata": {},
   "outputs": [],
   "source": [
    "def plot_graph(arr, ylabel='L2 hitrate', xlabel='kernels (in-order)'):\n",
    "    fig = plt.figure(figsize=(20,8))\n",
    "    ax = fig.add_subplot(111)\n",
    "    plt.tight_layout()\n",
    "    plt.xlabel(xlabel)\n",
    "    plt.ylabel(ylabel)\n",
    "    ax.plot(arr)"
   ]
  },
  {
   "cell_type": "code",
   "execution_count": 4,
   "metadata": {},
   "outputs": [],
   "source": [
    "def plot_bar(arr, ylabel='L2 hit-rate', xlabel='kernels (in-order)'):\n",
    "    fig = plt.figure(figsize=(20,8))\n",
    "    ax = fig.add_subplot(111)\n",
    "    plt.tight_layout()\n",
    "    plt.xlabel(xlabel)\n",
    "    plt.ylabel(ylabel)\n",
    "    ax.bar(list(range(len(arr))), height=arr, width=1)"
   ]
  },
  {
   "cell_type": "code",
   "execution_count": 5,
   "metadata": {},
   "outputs": [],
   "source": [
    "#model = 'resnet50'\n",
    "#model = 'resnet152'\n",
    "model = 'vgg16'"
   ]
  },
  {
   "cell_type": "code",
   "execution_count": null,
   "metadata": {},
   "outputs": [],
   "source": [
    "onegpu = pd.read_csv('./src/'+model+'/nvprof_onegpu_entire.csv')\n",
    "onegpu = onegpu.drop(0)\n"
   ]
  },
  {
   "cell_type": "code",
   "execution_count": null,
   "metadata": {},
   "outputs": [],
   "source": [
    "def get_utils(df):\n",
    "    utils = []\n",
    "    df_utils = df['l2_utilization']\n",
    "    for i in range(1,len(df_utils)+1):\n",
    "        s = df_utils[i]\n",
    "        u = ''.join((filter(str.isdigit, s)))\n",
    "        utils.append(float(u))\n",
    "    utils = np.array(utils)\n",
    "    return utils"
   ]
  },
  {
   "cell_type": "code",
   "execution_count": null,
   "metadata": {},
   "outputs": [],
   "source": [
    "utils1 = get_utils(onegpu)"
   ]
  },
  {
   "cell_type": "code",
   "execution_count": null,
   "metadata": {},
   "outputs": [],
   "source": [
    "cols = onegpu.columns[4:]\n",
    "onegpu[cols] = onegpu[cols].apply(pd.to_numeric, errors='coerce')"
   ]
  },
  {
   "cell_type": "code",
   "execution_count": null,
   "metadata": {},
   "outputs": [],
   "source": [
    "multigpu = pd.read_csv('./src/'+model+'/multigpu.csv')\n",
    "multigpu = multigpu.drop(0)\n",
    "cols = multigpu.columns[4:]\n",
    "multigpu[cols] = multigpu[cols].apply(pd.to_numeric, errors='coerce')"
   ]
  },
  {
   "cell_type": "code",
   "execution_count": 6,
   "metadata": {},
   "outputs": [],
   "source": [
    "multigpu_nooverlap = pd.read_csv('./src/'+model+'/nvprof_multigpu_nooverlap_entire.csv')\n",
    "multigpu_nooverlap = multigpu_nooverlap.drop(0)\n",
    "cols = multigpu_nooverlap.columns[4:]\n",
    "multigpu_nooverlap[cols] = multigpu_nooverlap[cols].apply(pd.to_numeric, errors='coerce')"
   ]
  },
  {
   "cell_type": "code",
   "execution_count": null,
   "metadata": {},
   "outputs": [],
   "source": [
    "trans1 = onegpu['l2_tex_read_transactions'].to_numpy()\n",
    "hitrate1 = onegpu['l2_tex_read_hit_rate'].to_numpy()"
   ]
  },
  {
   "cell_type": "code",
   "execution_count": null,
   "metadata": {},
   "outputs": [],
   "source": [
    "trans4 = multigpu['l2_tex_read_transactions'].to_numpy()\n",
    "hitrate4 = multigpu['l2_tex_read_hit_rate'].to_numpy()"
   ]
  },
  {
   "cell_type": "code",
   "execution_count": 7,
   "metadata": {},
   "outputs": [],
   "source": [
    "trans4_nooverlap = multigpu_nooverlap['l2_tex_read_transactions'].to_numpy()\n",
    "hitrate4_nooverlap = multigpu_nooverlap['l2_tex_read_hit_rate'].to_numpy()"
   ]
  },
  {
   "cell_type": "code",
   "execution_count": null,
   "metadata": {},
   "outputs": [],
   "source": [
    "idx1 = trans1!=0\n",
    "hitrate1 = hitrate1[idx1]\n",
    "trans1 = trans1[idx1]"
   ]
  },
  {
   "cell_type": "code",
   "execution_count": null,
   "metadata": {},
   "outputs": [],
   "source": [
    "idx4 = trans4!=0\n",
    "hitrate4 = hitrate4[idx4]\n",
    "trans4 = trans4[idx4]"
   ]
  },
  {
   "cell_type": "code",
   "execution_count": null,
   "metadata": {},
   "outputs": [],
   "source": [
    "idx4_nooverlap = trans4_nooverlap!=0\n",
    "hitrate4_nooverlap = hitrate4_nooverlap[idx4_nooverlap]\n",
    "trans4_nooverlap = trans4_nooverlap[idx4_nooverlap]"
   ]
  },
  {
   "cell_type": "markdown",
   "metadata": {},
   "source": [
    "## Printing L2 hit-rates"
   ]
  },
  {
   "cell_type": "markdown",
   "metadata": {},
   "source": [
    "#### SingleGPU system, L2 hit-rate for GPU0"
   ]
  },
  {
   "cell_type": "code",
   "execution_count": null,
   "metadata": {},
   "outputs": [],
   "source": [
    "plot_bar(hitrate1)"
   ]
  },
  {
   "cell_type": "code",
   "execution_count": null,
   "metadata": {},
   "outputs": [],
   "source": [
    "print(\"Single GPU system, GPU0 average L2 hit-rate is {:2f}%\".format(hitrate1.mean()))"
   ]
  },
  {
   "cell_type": "markdown",
   "metadata": {},
   "source": [
    "#### Overlapped MultiGPU system, L2 hit-rate for GPU0"
   ]
  },
  {
   "cell_type": "code",
   "execution_count": null,
   "metadata": {},
   "outputs": [],
   "source": [
    "plot_bar(hitrate4)"
   ]
  },
  {
   "cell_type": "code",
   "execution_count": null,
   "metadata": {},
   "outputs": [],
   "source": [
    "print(\"4 GPU system, GPU0 average L2 hitrate is {:2f}%\".format(hitrate4.mean()))"
   ]
  },
  {
   "cell_type": "markdown",
   "metadata": {},
   "source": [
    "## Printing transactions"
   ]
  },
  {
   "cell_type": "code",
   "execution_count": 8,
   "metadata": {},
   "outputs": [
    {
     "data": {
      "image/png": "[encoded data removed]",
      "text/plain": [
       "<Figure size 1440x576 with 1 Axes>"
      ]
     },
     "metadata": {
      "needs_background": "light"
     },
     "output_type": "display_data"
    }
   ],
   "source": [
    "plot_bar(trans4_nooverlap, 'L1-L2 transactions')"
   ]
  },
  {
   "cell_type": "code",
   "execution_count": null,
   "metadata": {},
   "outputs": [],
   "source": []
  }
 ],
 "metadata": {
  "interpreter": {
   "hash": "31f2aee4e71d21fbe5cf8b01ff0e069b9275f58929596ceb00d14d90e3e16cd6"
  },
  "kernelspec": {
   "display_name": "Python 3.8.10 64-bit",
   "name": "python3"
  },
  "language_info": {
   "codemirror_mode": {
    "name": "ipython",
    "version": 3
   },
   "file_extension": ".py",
   "mimetype": "text/x-python",
   "name": "python",
   "nbconvert_exporter": "python",
   "pygments_lexer": "ipython3",
   "version": "3.8.10"
  },
  "orig_nbformat": 4
 },
 "nbformat": 4,
 "nbformat_minor": 2
}
