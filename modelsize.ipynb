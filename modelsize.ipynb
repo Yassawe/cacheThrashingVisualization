{
 "cells": [
  {
   "cell_type": "code",
   "execution_count": 1,
   "metadata": {},
   "outputs": [],
   "source": [
    "import pandas as pd\n",
    "import numpy as np\n",
    "import matplotlib.pyplot as plt\n",
    "from utils import *"
   ]
  },
  {
   "cell_type": "code",
   "execution_count": 2,
   "metadata": {},
   "outputs": [],
   "source": [
    "L2READTR = 'l2_read_transactions'\n",
    "L2WRITETR = 'l2_write_transactions'\n",
    "DRAMREADB = 'dram_read_bytes'\n",
    "DRAMWRITEB = 'dram_write_bytes'\n",
    "\n",
    "models = ['resnet18', 'resnet50', 'resnet152']"
   ]
  },
  {
   "cell_type": "code",
   "execution_count": 3,
   "metadata": {},
   "outputs": [],
   "source": [
    "i = 0"
   ]
  },
  {
   "cell_type": "code",
   "execution_count": 4,
   "metadata": {},
   "outputs": [],
   "source": [
    "l2rt_s = pd.read_csv('./src/modelsize/'+ models[i] + '/' + 'one_' + L2READTR + '.csv')\n",
    "l2rt_s = l2rt_s.drop(0)\n",
    "l2rt_s = l2rt_s.reset_index(drop=True)\n",
    "\n",
    "\n",
    "l2wt_s = pd.read_csv('./src/modelsize/'+ models[i] + '/' + 'one_' + L2WRITETR + '.csv')\n",
    "l2wt_s = l2wt_s.drop(0)\n",
    "l2wt_s = l2wt_s.reset_index(drop=True)\n",
    "\n",
    "\n",
    "dramrb_s = pd.read_csv('./src/modelsize/'+ models[i] + '/' + 'one_' + DRAMREADB + '.csv')\n",
    "dramrb_s = dramrb_s.drop(0)\n",
    "dramrb_s = dramrb_s.reset_index(drop=True)\n",
    "\n",
    "\n",
    "dramwb_s = pd.read_csv('./src/modelsize/'+ models[i] + '/' + 'one_' + DRAMWRITEB + '.csv')\n",
    "dramwb_s = dramwb_s.drop(0)\n",
    "dramwb_s = dramwb_s.reset_index(drop=True)"
   ]
  },
  {
   "cell_type": "code",
   "execution_count": 5,
   "metadata": {},
   "outputs": [],
   "source": [
    "l2rt_m = pd.read_csv('./src/modelsize/'+ models[i] + '/' + 'multi_' + L2READTR + '.csv')\n",
    "l2rt_m = l2rt_m.drop(0)\n",
    "l2rt_m = l2rt_m.reset_index(drop=True)\n",
    "\n",
    "\n",
    "l2wt_m = pd.read_csv('./src/modelsize/'+ models[i] + '/' + 'multi_' + L2WRITETR + '.csv')\n",
    "l2wt_m = l2wt_m.drop(0)\n",
    "l2wt_m = l2wt_m.reset_index(drop=True)\n",
    "\n",
    "\n",
    "dramrb_m = pd.read_csv('./src/modelsize/'+ models[i] + '/' + 'multi_' + DRAMREADB + '.csv')\n",
    "dramrb_m = dramrb_m.drop(0)\n",
    "dramrb_m = dramrb_m.reset_index(drop=True)\n",
    "\n",
    "\n",
    "dramwb_m = pd.read_csv('./src/modelsize/'+ models[i] + '/' + 'multi_' + DRAMWRITEB + '.csv')\n",
    "dramwb_m = dramwb_m.drop(0)\n",
    "dramwb_m = dramwb_m.reset_index(drop=True)"
   ]
  },
  {
   "cell_type": "code",
   "execution_count": 6,
   "metadata": {},
   "outputs": [],
   "source": [
    "delimeter = find_delimeter(l2rt_s)"
   ]
  },
  {
   "cell_type": "code",
   "execution_count": 7,
   "metadata": {},
   "outputs": [],
   "source": [
    "l2rt_s_cp, l2rt_s_cm, _ = separate_streams(l2rt_s, L2READTR, delimeter)\n",
    "l2wt_s_cp, l2wt_s_cm, _ = separate_streams(l2wt_s, L2WRITETR, delimeter)\n",
    "dramrb_s_cp, dramrb_s_cm, _ = separate_streams(dramrb_s, DRAMREADB, delimeter)\n",
    "dramwb_s_cp, dramwb_s_cm, _ = separate_streams(dramwb_s, DRAMWRITEB, delimeter)"
   ]
  },
  {
   "cell_type": "code",
   "execution_count": 8,
   "metadata": {},
   "outputs": [],
   "source": [
    "l2rt_m_cp, l2rt_m_cm, _ = separate_streams(l2rt_m, L2READTR, delimeter)\n",
    "l2wt_m_cp, l2wt_m_cm, _ = separate_streams(l2wt_m, L2WRITETR, delimeter)\n",
    "dramrb_m_cp, dramrb_m_cm, _ = separate_streams(dramrb_m, DRAMREADB, delimeter)\n",
    "dramwb_m_cp, dramwb_m_cm, _ = separate_streams(dramwb_m, DRAMWRITEB, delimeter)"
   ]
  },
  {
   "cell_type": "code",
   "execution_count": 9,
   "metadata": {},
   "outputs": [],
   "source": [
    "idx_rs = l2rt_s_cp!=0\n",
    "l2rt_s_cp = l2rt_s_cp[idx_rs]\n",
    "dramrb_s_cp = dramrb_s_cp[idx_rs]\n",
    "\n",
    "idx_ws = l2wt_s_cp!=0\n",
    "l2wt_s_cp = l2wt_s_cp[idx_ws]\n",
    "dramwb_s_cp = dramwb_s_cp[idx_ws]"
   ]
  },
  {
   "cell_type": "code",
   "execution_count": 10,
   "metadata": {},
   "outputs": [],
   "source": [
    "idx_rm = l2rt_m_cp!=0\n",
    "l2rt_m_cp = l2rt_m_cp[idx_rm]\n",
    "dramrb_m_cp = dramrb_m_cp[idx_rm]\n",
    "\n",
    "idx_wm = l2wt_m_cp!=0\n",
    "l2wt_m_cp = l2wt_m_cp[idx_wm]\n",
    "dramwb_m_cp = dramwb_m_cp[idx_wm]"
   ]
  },
  {
   "cell_type": "code",
   "execution_count": 11,
   "metadata": {},
   "outputs": [],
   "source": [
    "rhr_s_cp = (l2rt_s_cp - dramrb_s_cp/32)/l2rt_s_cp\n",
    "whr_s_cp = (l2wt_s_cp - dramwb_s_cp/32)/l2wt_s_cp"
   ]
  },
  {
   "cell_type": "code",
   "execution_count": 12,
   "metadata": {},
   "outputs": [],
   "source": [
    "rhr_m_cp = (l2rt_m_cp - dramrb_m_cp/32)/l2rt_m_cp\n",
    "whr_m_cp = (l2wt_m_cp - dramwb_m_cp/32)/l2wt_m_cp"
   ]
  },
  {
   "cell_type": "code",
   "execution_count": 13,
   "metadata": {},
   "outputs": [],
   "source": [
    "rhr_s_cp = rhr_s_cp[delimeter:]\n",
    "whr_s_cp = whr_s_cp[delimeter:]\n",
    "\n",
    "rhr_m_cp = rhr_m_cp[delimeter:]\n",
    "whr_m_cp = whr_m_cp[delimeter:]"
   ]
  },
  {
   "cell_type": "code",
   "execution_count": 14,
   "metadata": {},
   "outputs": [
    {
     "name": "stdout",
     "output_type": "stream",
     "text": [
      "Av read hits for single GPU 0.3289366646236378%\n",
      "Av read hits for multi GPU 0.458766514895156%\n",
      "\n",
      "Av write hits for single GPU 0.01858350060938479%\n",
      "Av write hits for multi GPU 0.10878461564053958%\n"
     ]
    }
   ],
   "source": [
    "print(\"Av read hits for single GPU {}%\".format(rhr_s_cp.mean()))\n",
    "print(\"Av read hits for multi GPU {}%\".format(rhr_m_cp.mean()))\n",
    "print()\n",
    "print(\"Av write hits for single GPU {}%\".format(whr_s_cp.mean()))\n",
    "print(\"Av write hits for multi GPU {}%\".format(whr_m_cp.mean()))"
   ]
  },
  {
   "cell_type": "code",
   "execution_count": null,
   "metadata": {},
   "outputs": [],
   "source": []
  }
 ],
 "metadata": {
  "interpreter": {
   "hash": "31f2aee4e71d21fbe5cf8b01ff0e069b9275f58929596ceb00d14d90e3e16cd6"
  },
  "kernelspec": {
   "display_name": "Python 3.8.10 64-bit",
   "name": "python3"
  },
  "language_info": {
   "codemirror_mode": {
    "name": "ipython",
    "version": 3
   },
   "file_extension": ".py",
   "mimetype": "text/x-python",
   "name": "python",
   "nbconvert_exporter": "python",
   "pygments_lexer": "ipython3",
   "version": "3.8.10"
  },
  "orig_nbformat": 4
 },
 "nbformat": 4,
 "nbformat_minor": 2
}
