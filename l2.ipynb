{
 "cells": [
  {
   "cell_type": "code",
   "execution_count": 1,
   "metadata": {},
   "outputs": [],
   "source": [
    "import pandas as pd\n",
    "import numpy as np\n",
    "import matplotlib.pyplot as plt"
   ]
  },
  {
   "cell_type": "markdown",
   "metadata": {},
   "source": [
    "## functions"
   ]
  },
  {
   "cell_type": "code",
   "execution_count": 2,
   "metadata": {},
   "outputs": [],
   "source": [
    "def plot_graph(arr, delimeter=93, ylabel='L2 hitrate', xlabel='kernels (in-order)'):\n",
    "    fig = plt.figure(figsize=(20,8))\n",
    "    ax = fig.add_subplot(111)\n",
    "    plt.tight_layout()\n",
    "    plt.xlabel(xlabel, fontsize=20)\n",
    "    plt.ylabel(ylabel, fontsize=20)\n",
    "    plt.axvline(x=delimeter, color='r', linestyle='--')\n",
    "    ax.plot(arr)\n",
    "\n",
    "def plot_bar(arr, delimeter=93, ylabel='', xlabel='kernels'):\n",
    "    fig = plt.figure(figsize=(20,8))\n",
    "    ax = fig.add_subplot(111)\n",
    "    plt.tight_layout()\n",
    "    plt.xlabel(xlabel, fontsize=20)\n",
    "    plt.ylabel(ylabel, fontsize=20)\n",
    "    plt.axvline(x=delimeter, color='r', linestyle='--')\n",
    "    ax.bar(list(range(len(arr))), height=arr, width=1)\n",
    "\n",
    "def exclusive_scan(arr):\n",
    "    scan = np.zeros_like(arr)\n",
    "    for i in range(len(arr)):\n",
    "        s = 0\n",
    "        for j in range(i):\n",
    "            s+=arr[j]\n",
    "        scan[i] = s\n",
    "    return scan\n",
    "\n",
    "def create_timearray(durations, arr, timestep=0.001, delimeter = 93):\n",
    "    durations = np.trunc(durations/timestep).astype(np.int32)\n",
    "    total_time = sum(durations)\n",
    "    start_times = exclusive_scan(durations)\n",
    "    output = np.zeros(total_time)\n",
    "    for i in range(len(durations)):\n",
    "        output[start_times[i]:start_times[i]+durations[i]] = arr[i]\n",
    "    return output, start_times[delimeter]\n",
    "\n",
    "def get_global_averages(arr, delimeter):\n",
    "    f = arr[:delimeter]\n",
    "    b = arr[delimeter:]\n",
    "\n",
    "    f = f[np.logical_not(np.isnan(f))]\n",
    "    b = b[np.logical_not(np.isnan(b))]\n",
    "\n",
    "    print(\"Average for forward is {}\".format(f.mean()))\n",
    "    print(\"Average for backward is {}\".format(b.mean()))\n",
    "\n",
    "def moving_average(a, n) :\n",
    "    ret = np.cumsum(a, dtype=float)\n",
    "    ret[n:] = ret[n:] - ret[:-n]\n",
    "    return ret[n - 1:] / n\n",
    "\n",
    "\n",
    "def ma_analysis(arr, old_delimeter, n=10000):\n",
    "\n",
    "    f = arr[:old_delimeter]\n",
    "    b = arr[old_delimeter:]\n",
    "\n",
    "    f = f[np.logical_not(np.isnan(f))]\n",
    "    b = b[np.logical_not(np.isnan(b))]\n",
    "\n",
    "    f_ma = moving_average(f, n)\n",
    "    b_ma = moving_average(b, n)\n",
    "\n",
    "    delimeter = len(f_ma)\n",
    "    out = np.concatenate((f_ma, b_ma))\n",
    "\n",
    "    return out, delimeter\n",
    "\n",
    "def create_timearray_separate_streams(df, metric, timestep=0.001, delimeter = 93):\n",
    "    #communication stream\n",
    "    df_comm = df.loc[df['Name'].str.contains('nccl', case=False)]\n",
    "    vals_comm = df_comm[metric].astype(float).to_numpy()\n",
    "    durations_comm = df_comm['Duration'].astype(float).to_numpy()\n",
    "    durations_comm = np.trunc(durations_comm/timestep).astype(np.int32)\n",
    "    idx_comm = df_comm.index.to_numpy()\n",
    "    ##__\n",
    "\n",
    "    #computation stream\n",
    "    df_comp = df.drop(index=idx_comm)\n",
    "    df_comp = df_comp.reset_index(drop=True)\n",
    "    vals_comp = df_comp[metric].astype(float).to_numpy()\n",
    "    durations_comp = df_comp['Duration'].astype(float).to_numpy()\n",
    "    durations_comp = np.trunc(durations_comp/timestep).astype(np.int32)\n",
    "    ##__\n",
    "\n",
    "    total_time = sum(durations_comp) + sum(durations_comm) \n",
    "\n",
    "    tvals_comm = np.zeros(total_time)\n",
    "    tvals_comp = np.zeros(total_time)\n",
    "\n",
    "    starttimes_comp = exclusive_scan(durations_comp)\n",
    "\n",
    "    #adjust comm indexes, since we removed them\n",
    "    for i in range(len(idx_comm)):\n",
    "        idx_comm[i] = idx_comm[i] - i - 1\n",
    "    \n",
    "    starttimes_comm = starttimes_comp[idx_comm]\n",
    "\n",
    "    for i in range(len(durations_comm)):\n",
    "        tvals_comm[starttimes_comm[i]:starttimes_comm[i]+durations_comm[i]] = vals_comm[i]\n",
    "\n",
    "    for i in range(len(durations_comp)):\n",
    "        tvals_comp[starttimes_comp[i]:starttimes_comp[i]+durations_comp[i]] = vals_comp[i]\n",
    "    \n",
    "    new_delimeter = starttimes_comp[delimeter-1]\n",
    "\n",
    "    # print(np.nanmean(vals_comm))\n",
    "    # print(np.nanmean(vals_comp))\n",
    "\n",
    "    return tvals_comp, tvals_comm, new_delimeter\n",
    "\n",
    "def plot_bar_overlap(comp, comm, delimeter, ylabel, xlabel):\n",
    "    fig = plt.figure(figsize=(20,8))\n",
    "    ax = fig.add_subplot(111)\n",
    "    plt.tight_layout()\n",
    "    plt.xlabel(xlabel, fontsize=20)\n",
    "    plt.ylabel(ylabel, fontsize=20)\n",
    "    plt.axvline(x=delimeter, color='r', linestyle='--')\n",
    "    ax.bar(list(range(len(comp))), height=comp, width=1, color='b', label='computation')\n",
    "    ax.bar(list(range(len(comm))), height=comm, width=1, color='r', label='communication', alpha=0.5)\n",
    "    plt.legend()\n",
    "\n",
    "def separate_streams(df, metric, delimeter=93):\n",
    "    #communication stream\n",
    "    df_comm = df.loc[df['Name'].str.contains('nccl', case=False)]\n",
    "    vals_comm = df_comm[metric].astype(float).to_numpy()\n",
    "    idx_comm = df_comm.index.to_numpy()\n",
    "    ##__\n",
    "\n",
    "    #computation stream\n",
    "    df_comp = df.drop(index=idx_comm)\n",
    "    df_comp = df_comp.reset_index(drop=True)\n",
    "    vals_comp = df_comp[metric].astype(float).to_numpy()\n",
    "\n",
    "    total_len = len(vals_comp) + len(vals_comm)\n",
    "\n",
    "    out_comp = np.zeros(total_len)\n",
    "    out_comm = np.zeros(total_len)\n",
    "\n",
    "    \n",
    "\n",
    "    for i in range(len(idx_comm)):\n",
    "        idx_comm[i] = idx_comm[i] - i\n",
    "\n",
    "    for i in range(total_len):\n",
    "        if i<len(vals_comp):\n",
    "            out_comp[i] = vals_comp[i]\n",
    "        \n",
    "        for j in range(len(idx_comm)):\n",
    "            if idx_comm[j] == i:\n",
    "                out_comm[i]=vals_comm[j]\n",
    "\n",
    "    return out_comp, out_comm, delimeter"
   ]
  },
  {
   "cell_type": "markdown",
   "metadata": {},
   "source": [
    "## profiling"
   ]
  },
  {
   "cell_type": "code",
   "execution_count": 3,
   "metadata": {},
   "outputs": [],
   "source": [
    "#model = 'resnet50'\n",
    "#model = 'resnet152'\n",
    "model = 'vgg16'"
   ]
  },
  {
   "cell_type": "code",
   "execution_count": 4,
   "metadata": {},
   "outputs": [],
   "source": [
    "l2r_df = pd.read_csv('./src/'+model+'/nvprof_l2r_multigpu.csv')\n",
    "l2r_df = l2r_df.drop(0)\n",
    "l2r_df = l2r_df.reset_index(drop=True)\n",
    "\n",
    "l2w_df = pd.read_csv('./src/'+model+'/nvprof_l2w_multigpu.csv')\n",
    "l2w_df = l2w_df.drop(0)\n",
    "l2w_df = l2w_df.reset_index(drop=True)\n",
    "\n",
    "# f [0-93)\n",
    "# b [127-352)\n",
    "# drop = [93-127)\n"
   ]
  },
  {
   "cell_type": "code",
   "execution_count": 5,
   "metadata": {},
   "outputs": [],
   "source": [
    "l2r_df = l2r_df.drop(index = list(range(93,127))+list(range(352,len(l2r_df))))\n",
    "l2w_df = l2w_df.drop(index = list(range(93,127))+list(range(352,len(l2w_df))))"
   ]
  },
  {
   "cell_type": "code",
   "execution_count": 6,
   "metadata": {},
   "outputs": [],
   "source": [
    "l2r_df = l2r_df.reset_index(drop=True)\n",
    "l2w_df = l2w_df.reset_index(drop=True)\n",
    "\n",
    "# f [0-92]\n",
    "# b [93 - :]"
   ]
  },
  {
   "cell_type": "code",
   "execution_count": 8,
   "metadata": {},
   "outputs": [],
   "source": [
    "l2r_comp, l2r_comm, delimeter1 = separate_streams(l2r_df, 'l2_read_transactions')"
   ]
  },
  {
   "cell_type": "code",
   "execution_count": 9,
   "metadata": {},
   "outputs": [],
   "source": [
    "l2w_comp, l2w_comm, delimeter2 = separate_streams(l2w_df, 'l2_write_transactions')"
   ]
  },
  {
   "cell_type": "code",
   "execution_count": 10,
   "metadata": {},
   "outputs": [
    {
     "data": {
      "image/png": "[encoded data removed]",
      "text/plain": [
       "<Figure size 1440x576 with 1 Axes>"
      ]
     },
     "metadata": {
      "needs_background": "light"
     },
     "output_type": "display_data"
    }
   ],
   "source": [
    "plot_bar_overlap(l2r_comp, l2r_comm, delimeter1, 'L2 read transactions', 'kernels (in-order)')"
   ]
  },
  {
   "cell_type": "code",
   "execution_count": 11,
   "metadata": {},
   "outputs": [
    {
     "data": {
      "image/png": "[encoded data removed]",
      "text/plain": [
       "<Figure size 1440x576 with 1 Axes>"
      ]
     },
     "metadata": {
      "needs_background": "light"
     },
     "output_type": "display_data"
    }
   ],
   "source": [
    "plot_bar_overlap(l2w_comp, l2w_comm, delimeter2, 'L2 wrtie transactions', 'kernels(in-order)')"
   ]
  },
  {
   "cell_type": "code",
   "execution_count": null,
   "metadata": {},
   "outputs": [],
   "source": []
  }
 ],
 "metadata": {
  "interpreter": {
   "hash": "31f2aee4e71d21fbe5cf8b01ff0e069b9275f58929596ceb00d14d90e3e16cd6"
  },
  "kernelspec": {
   "display_name": "Python 3.8.10 64-bit",
   "name": "python3"
  },
  "language_info": {
   "codemirror_mode": {
    "name": "ipython",
    "version": 3
   },
   "file_extension": ".py",
   "mimetype": "text/x-python",
   "name": "python",
   "nbconvert_exporter": "python",
   "pygments_lexer": "ipython3",
   "version": "3.8.10"
  },
  "orig_nbformat": 4
 },
 "nbformat": 4,
 "nbformat_minor": 2
}
