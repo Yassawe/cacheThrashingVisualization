{
 "cells": [
  {
   "cell_type": "code",
   "execution_count": 1,
   "metadata": {},
   "outputs": [],
   "source": [
    "import pandas as pd\n",
    "import numpy as np\n",
    "import matplotlib.pyplot as plt\n",
    "from utils import *"
   ]
  },
  {
   "cell_type": "code",
   "execution_count": 2,
   "metadata": {},
   "outputs": [],
   "source": [
    "HR = 'l2_tex_hit_rate'\n",
    "\n",
    "#no need for delimeter\n",
    "path = './src/hitrates/'\n",
    "\n",
    "models = ['18', '50', '101']"
   ]
  },
  {
   "cell_type": "code",
   "execution_count": 3,
   "metadata": {},
   "outputs": [],
   "source": [
    "i=2"
   ]
  },
  {
   "cell_type": "code",
   "execution_count": 4,
   "metadata": {},
   "outputs": [],
   "source": [
    "s = pd.read_csv(path + models[i] + '_s.csv')\n",
    "s = s.drop(0)\n",
    "s = s.reset_index(drop=True)"
   ]
  },
  {
   "cell_type": "code",
   "execution_count": 19,
   "metadata": {},
   "outputs": [],
   "source": [
    "m = pd.read_csv(path + models[i] + '_m.csv')\n",
    "m = m.drop(0)\n",
    "m = m.reset_index(drop=True)"
   ]
  },
  {
   "cell_type": "code",
   "execution_count": 20,
   "metadata": {},
   "outputs": [],
   "source": [
    "hr_s = s[HR].astype(float).to_numpy()\n"
   ]
  },
  {
   "cell_type": "code",
   "execution_count": 21,
   "metadata": {},
   "outputs": [],
   "source": [
    "hr_m = m[HR].astype(float).to_numpy()\n"
   ]
  },
  {
   "cell_type": "code",
   "execution_count": 22,
   "metadata": {},
   "outputs": [
    {
     "name": "stdout",
     "output_type": "stream",
     "text": [
      "1GPU hit rate 50.35601665941422%\n"
     ]
    }
   ],
   "source": [
    "print(\"1GPU hit rate {}%\".format(hr_s.mean()))"
   ]
  },
  {
   "cell_type": "code",
   "execution_count": 23,
   "metadata": {},
   "outputs": [
    {
     "name": "stdout",
     "output_type": "stream",
     "text": [
      "MGPU hit rate 46.56378496554009%\n"
     ]
    }
   ],
   "source": [
    "print(\"MGPU hit rate {}%\".format(hr_m.mean()))"
   ]
  },
  {
   "cell_type": "code",
   "execution_count": null,
   "metadata": {},
   "outputs": [],
   "source": [
    "# print(\"SingleGPU\")\n",
    "# print(\"Read hit rate  {}%\".format(rhr_s.mean()))\n",
    "# print(\"Read transactions {}\".format(rt_s.mean()))\n",
    "# print(\"Write hit rate {}%\".format(whr_s.mean()))\n",
    "# print(\"Write transactions {}\".format(wt_s.mean()))\n",
    "# print()\n",
    "# print(\"MultiGPU\")\n",
    "# print(\"Read hit rate {}%\".format(rhr_m.mean()))\n",
    "# print(\"Read transactions {}\".format(rt_m.mean()))\n",
    "# print(\"Write hit rate {}%\".format(whr_m.mean()))\n",
    "# print(\"Write transactions {}\".format(wt_m.mean()))"
   ]
  },
  {
   "cell_type": "code",
   "execution_count": null,
   "metadata": {},
   "outputs": [],
   "source": []
  }
 ],
 "metadata": {
  "interpreter": {
   "hash": "31f2aee4e71d21fbe5cf8b01ff0e069b9275f58929596ceb00d14d90e3e16cd6"
  },
  "kernelspec": {
   "display_name": "Python 3.8.10 64-bit",
   "name": "python3"
  },
  "language_info": {
   "codemirror_mode": {
    "name": "ipython",
    "version": 3
   },
   "file_extension": ".py",
   "mimetype": "text/x-python",
   "name": "python",
   "nbconvert_exporter": "python",
   "pygments_lexer": "ipython3",
   "version": "3.8.10"
  },
  "orig_nbformat": 4
 },
 "nbformat": 4,
 "nbformat_minor": 2
}
