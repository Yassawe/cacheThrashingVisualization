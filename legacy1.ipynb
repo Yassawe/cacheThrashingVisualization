{
 "cells": [
  {
   "cell_type": "code",
   "execution_count": null,
   "metadata": {},
   "outputs": [],
   "source": [
    "import pandas as pd\n",
    "import numpy as np\n",
    "import matplotlib.pyplot as plt"
   ]
  },
  {
   "cell_type": "code",
   "execution_count": null,
   "metadata": {},
   "outputs": [],
   "source": [
    "def plot_graph(arr, delimeter=93, ylabel='L2 hitrate', xlabel='kernels (in-order)'):\n",
    "    fig = plt.figure(figsize=(20,8))\n",
    "    ax = fig.add_subplot(111)\n",
    "    plt.tight_layout()\n",
    "    plt.xlabel(xlabel, fontsize=20)\n",
    "    plt.ylabel(ylabel, fontsize=20)\n",
    "    plt.axvline(x=delimeter, color='r', linestyle='--')\n",
    "    ax.plot(arr)"
   ]
  },
  {
   "cell_type": "code",
   "execution_count": null,
   "metadata": {},
   "outputs": [],
   "source": [
    "def plot_bar(arr, delimeter=93, ylabel='L1-L2 hitrate', xlabel='kernels (in-order)'):\n",
    "    fig = plt.figure(figsize=(20,8))\n",
    "    ax = fig.add_subplot(111)\n",
    "    plt.tight_layout()\n",
    "    plt.xlabel(xlabel, fontsize=20)\n",
    "    plt.ylabel(ylabel, fontsize=20)\n",
    "    plt.axvline(x=delimeter, color='r', linestyle='--')\n",
    "    ax.bar(list(range(len(arr))), height=arr, width=1)"
   ]
  },
  {
   "cell_type": "code",
   "execution_count": null,
   "metadata": {},
   "outputs": [],
   "source": [
    "#model = 'resnet50'\n",
    "#model = 'resnet152'\n",
    "model = 'vgg16'"
   ]
  },
  {
   "cell_type": "code",
   "execution_count": null,
   "metadata": {},
   "outputs": [],
   "source": [
    "onegpu = pd.read_csv('./src/'+model+'/nvprof_l2r_multigpu.csv')\n",
    "onegpu = onegpu.drop(0)\n"
   ]
  },
  {
   "cell_type": "code",
   "execution_count": null,
   "metadata": {},
   "outputs": [],
   "source": [
    "onegpu = onegpu.drop(index = list(range(94,128)))"
   ]
  },
  {
   "cell_type": "code",
   "execution_count": null,
   "metadata": {},
   "outputs": [],
   "source": [
    "onegpu = onegpu.reset_index()"
   ]
  },
  {
   "cell_type": "code",
   "execution_count": null,
   "metadata": {},
   "outputs": [],
   "source": [
    "# L1-L2 read hit rate -- l2_tex_read_hit_rate\n",
    "\n",
    "# L1-L2 read transactions  -- l2_tex_read_transactions\n",
    "\n",
    "# L1 hit rate -- tex_cache_hit_rate\n",
    "\n",
    "# L1 transactions -- tex_cache_transactions"
   ]
  },
  {
   "cell_type": "code",
   "execution_count": null,
   "metadata": {},
   "outputs": [],
   "source": [
    "trans = onegpu['l2_tex_read_transactions'].astype(float).to_numpy()\n",
    "hitrates = onegpu['l2_tex_read_hit_rate'].astype(float).to_numpy()\n",
    "durations = onegpu['Duration'].astype(float).to_numpy()"
   ]
  },
  {
   "cell_type": "code",
   "execution_count": null,
   "metadata": {},
   "outputs": [],
   "source": [
    "def exclusive_scan(arr):\n",
    "    scan = np.zeros_like(arr)\n",
    "    for i in range(len(arr)):\n",
    "        s = 0\n",
    "        for j in range(i):\n",
    "            s+=arr[j]\n",
    "        scan[i] = s\n",
    "    return scan"
   ]
  },
  {
   "cell_type": "code",
   "execution_count": null,
   "metadata": {},
   "outputs": [],
   "source": [
    "def create_timearray(durations, arr, timestep=0.001, delimeter = 93):\n",
    "    durations = np.trunc(durations/timestep).astype(np.int32)\n",
    "    total_time = sum(durations)\n",
    "    start_times = exclusive_scan(durations)\n",
    "    output = np.zeros(total_time)\n",
    "    for i in range(len(durations)):\n",
    "        output[start_times[i]:start_times[i]+durations[i]] = arr[i]\n",
    "    return output, start_times[delimeter]"
   ]
  },
  {
   "cell_type": "code",
   "execution_count": null,
   "metadata": {},
   "outputs": [],
   "source": [
    "def get_global_averages(arr, delimeter):\n",
    "    f = arr[:delimeter]\n",
    "    b = arr[delimeter:]\n",
    "\n",
    "    f = f[np.logical_not(np.isnan(f))]\n",
    "    b = b[np.logical_not(np.isnan(b))]\n",
    "\n",
    "    print(\"Average for forward is {}\".format(f.mean()))\n",
    "    print(\"Average for backward is {}\".format(b.mean()))"
   ]
  },
  {
   "cell_type": "code",
   "execution_count": null,
   "metadata": {},
   "outputs": [],
   "source": [
    "hitrates_time, delimeter = create_timearray(durations, hitrates)"
   ]
  },
  {
   "cell_type": "code",
   "execution_count": null,
   "metadata": {},
   "outputs": [],
   "source": [
    "trans_time, delimeter = create_timearray(durations, trans)"
   ]
  },
  {
   "cell_type": "code",
   "execution_count": null,
   "metadata": {},
   "outputs": [],
   "source": [
    "plot_bar(hitrates)"
   ]
  },
  {
   "cell_type": "code",
   "execution_count": null,
   "metadata": {},
   "outputs": [],
   "source": [
    "get_global_averages(hitrates, 93)"
   ]
  },
  {
   "cell_type": "code",
   "execution_count": null,
   "metadata": {},
   "outputs": [],
   "source": [
    "plot_bar(hitrates_time, delimeter=delimeter, ylabel='L1-L2 hitrate', xlabel='time (us)')"
   ]
  },
  {
   "cell_type": "code",
   "execution_count": null,
   "metadata": {},
   "outputs": [],
   "source": [
    "get_global_averages(hitrates_time, delimeter)"
   ]
  },
  {
   "cell_type": "code",
   "execution_count": null,
   "metadata": {},
   "outputs": [],
   "source": [
    "htr = trans_time*hitrates_time/100"
   ]
  },
  {
   "cell_type": "code",
   "execution_count": null,
   "metadata": {},
   "outputs": [],
   "source": [
    "plot_bar(htr, delimeter=delimeter, ylabel='L1-L2 transactions*L1-L2 hitrates', xlabel='time (us)')"
   ]
  },
  {
   "cell_type": "code",
   "execution_count": null,
   "metadata": {},
   "outputs": [],
   "source": [
    "def moving_average(a, n) :\n",
    "    ret = np.cumsum(a, dtype=float)\n",
    "    ret[n:] = ret[n:] - ret[:-n]\n",
    "    return ret[n - 1:] / n"
   ]
  },
  {
   "cell_type": "code",
   "execution_count": null,
   "metadata": {},
   "outputs": [],
   "source": [
    "def sep(arr, old_delimeter, n=10000):\n",
    "\n",
    "    f = arr[:old_delimeter]\n",
    "    b = arr[old_delimeter:]\n",
    "\n",
    "    f = f[np.logical_not(np.isnan(f))]\n",
    "    b = b[np.logical_not(np.isnan(b))]\n",
    "\n",
    "    f_ma = moving_average(f, n)\n",
    "    b_ma = moving_average(b, n)\n",
    "\n",
    "    delimeter = len(f_ma)\n",
    "    out = np.concatenate((f_ma, b_ma))\n",
    "\n",
    "    return out, delimeter"
   ]
  },
  {
   "cell_type": "code",
   "execution_count": null,
   "metadata": {},
   "outputs": [],
   "source": [
    "n = 10000"
   ]
  },
  {
   "cell_type": "code",
   "execution_count": null,
   "metadata": {},
   "outputs": [],
   "source": [
    "hitrates_ma, del1 = sep(hitrates_time, delimeter, n)"
   ]
  },
  {
   "cell_type": "code",
   "execution_count": null,
   "metadata": {},
   "outputs": [],
   "source": [
    "htr_ma, del2 = sep(htr, delimeter, n)"
   ]
  },
  {
   "cell_type": "code",
   "execution_count": null,
   "metadata": {},
   "outputs": [],
   "source": [
    "plot_graph(hitrates_ma, delimeter=del1, ylabel='L1-L2 hitrates, moving average with window of 10ms', xlabel='time (us)')"
   ]
  },
  {
   "cell_type": "code",
   "execution_count": null,
   "metadata": {},
   "outputs": [],
   "source": [
    "plot_graph(htr_ma, delimeter=del2, ylabel='trans*hitrates, moving average with window of 10ms', xlabel='time(us)')"
   ]
  },
  {
   "cell_type": "code",
   "execution_count": null,
   "metadata": {},
   "outputs": [],
   "source": []
  }
 ],
 "metadata": {
  "interpreter": {
   "hash": "31f2aee4e71d21fbe5cf8b01ff0e069b9275f58929596ceb00d14d90e3e16cd6"
  },
  "kernelspec": {
   "display_name": "Python 3.8.10 64-bit",
   "name": "python3"
  },
  "language_info": {
   "codemirror_mode": {
    "name": "ipython",
    "version": 3
   },
   "file_extension": ".py",
   "mimetype": "text/x-python",
   "name": "python",
   "nbconvert_exporter": "python",
   "pygments_lexer": "ipython3",
   "version": "3.8.10"
  },
  "orig_nbformat": 4
 },
 "nbformat": 4,
 "nbformat_minor": 2
}
